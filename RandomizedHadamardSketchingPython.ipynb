{
 "cells": [
  {
   "cell_type": "code",
   "execution_count": 1,
   "metadata": {},
   "outputs": [],
   "source": [
    "### Import NumPy and time\n",
    "import numpy as np\n",
    "import time"
   ]
  },
  {
   "cell_type": "markdown",
   "metadata": {},
   "source": [
    "Randomized Hadamard sketch: The sketch matrix in this case can be represented as S = P*H*D where P ∈ R^m×n is for uniform sampling of m rows out of n rows, \\\n",
    "H ∈ R^n×n is the Hadamard matrix, and D ∈ R^n×n is a diagonal matrix with diagonal entries sampled randomly from the Rademacher distribution. \\\n",
    "Multiplication by D to obtain DA requires O(n*d) scalar multiplications. \\\n",
    "Hadamard transform can be implemented as a fast transform with complexity O(n*log(n)) per column, and a total complexity of O(n*d*log(n)) to sketch all d columns of DA."
   ]
  },
  {
   "cell_type": "code",
   "execution_count": 2,
   "metadata": {},
   "outputs": [],
   "source": [
    "### Matrix_P is for uniform sampling of m rows out of n rows\n",
    "def matrix_P (m,n):\n",
    "    I = np.eye(n)\n",
    "    sample_indices = np.random.choice(n,m,replace = False)\n",
    "    sample_indices.sort()\n",
    "    P = I[sample_indices,:]\n",
    "    return P"
   ]
  },
  {
   "cell_type": "code",
   "execution_count": 3,
   "metadata": {},
   "outputs": [],
   "source": [
    "### Import scipy for Fasterest Consturction of Hadamard\n",
    "import scipy.linalg\n",
    "H = scipy.linalg.hadamard(2**10)"
   ]
  },
  {
   "cell_type": "code",
   "execution_count": 4,
   "metadata": {},
   "outputs": [],
   "source": [
    "### Create a diagonal matrix with diagonal entries sampled randomly from the Rademacher distribution\n",
    "vec = np.random.choice([-1,1],2**10)\n",
    "D = np.diag(vec)"
   ]
  },
  {
   "cell_type": "code",
   "execution_count": 5,
   "metadata": {},
   "outputs": [],
   "source": [
    "### Finally construct the sketch matrix\n",
    "### S = matrix_P(mm_for_sampling,nn) @ H\n",
    "### S = S @ D"
   ]
  },
  {
   "cell_type": "code",
   "execution_count": 6,
   "metadata": {},
   "outputs": [],
   "source": [
    "def random_hadamard_sketch(S,A):\n",
    "    Transformed = S @ A\n",
    "    return Transformed\n",
    "### A has nn rows"
   ]
  },
  {
   "cell_type": "markdown",
   "metadata": {},
   "source": [
    "Now we need the padding method needed to be employed to accommodate date for arbitrary size.\\\n",
    "This involves adding zeros to the end of the data matrix X and the target vector y, ensuring that the resulting dimensions are powers of two."
   ]
  },
  {
   "cell_type": "code",
   "execution_count": 7,
   "metadata": {},
   "outputs": [],
   "source": [
    "def pad_to_power_of_two(X, y):\n",
    "    \"\"\"Pads the data matrix X and target vector y with zeros to the nearest power of two.\n",
    "    Args:\n",
    "    X: The data matrix.\n",
    "    y: The target vector.\n",
    "    Returns:\n",
    "    The padded data matrix and target vector.\n",
    "    \"\"\"\n",
    "    n_samples, n_features = X.shape\n",
    "\n",
    "    # Find the next power of two\n",
    "    next_power_of_two = 2**int(np.ceil(np.log2(n_samples)))\n",
    "\n",
    "    # Pad the data matrix and target vector with zeros\n",
    "    X_add = np.zeros((next_power_of_two - n_samples,n_features))\n",
    "    X_padded = np.concatenate((X,X_add),axis=0)\n",
    "    y_padded = np.pad(y, (0, next_power_of_two - n_samples), 'constant')\n",
    "    return X_padded, y_padded"
   ]
  },
  {
   "cell_type": "markdown",
   "metadata": {},
   "source": [
    "Our target: calculate the least square time and compared it with codes written in R language."
   ]
  },
  {
   "cell_type": "code",
   "execution_count": 8,
   "metadata": {},
   "outputs": [
    {
     "name": "stdout",
     "output_type": "stream",
     "text": [
      "1206.7649364471436 ms for Hadamard Matrix Forming.\n",
      "[ 0.00083472  0.0003015   0.00044266  0.00015157  0.00102233 -0.00245004\n",
      "  0.00115447 -0.00133157  0.00029259 -0.0013722   0.00161695 -0.00013757\n",
      "  0.0006867   0.00026506]\n",
      "0.00889706744153719\n",
      "[[  748.     996.    1049.14 ...  1853.02  1608.56  6431.  ]\n",
      " [  180.     958.      56.3  ...   128.66   -22.44 -1045.  ]\n",
      " [  372.    1638.     246.2  ...   384.04   237.12  3367.  ]\n",
      " ...\n",
      " [ -258.   -2158.    -331.34 ...  -481.36 -1041.9  -2799.  ]\n",
      " [  182.     278.     181.8  ...   182.44   354.36  2345.  ]\n",
      " [ 1210.    3028.    2037.3  ...  1693.14  2638.18 10709.  ]]\n",
      "The time of execution of Randomized Hadamard Sketching is : 6387.497186660767 ms\n"
     ]
    }
   ],
   "source": [
    "### Apply subsampled randomized hadamard transform and timer the time using the wind data.\n",
    "import pandas as pd\n",
    "data = pd.read_csv(\"wind.csv\",header=None)\n",
    "data = np.array(data)\n",
    "Y = data[:,0]\n",
    "X = data[:,1:len(data)]\n",
    "start1 = time.time()\n",
    "m = 2000\n",
    "Xpad,Ypad = pad_to_power_of_two(X,Y)\n",
    "Ypad = Ypad.reshape(-1,1)\n",
    "st = time.time()\n",
    "H = scipy.linalg.hadamard(len(Xpad))\n",
    "ed = time.time()\n",
    "time_hada = ed - st\n",
    "print(time_hada*1000,\"ms for Hadamard Matrix Forming.\")\n",
    "S = matrix_P(m,len(Xpad)) @ H\n",
    "vec = np.random.choice([-1,1],len(Xpad))\n",
    "D = np.diag(vec)\n",
    "S = S @ D\n",
    "data_n = np.concatenate((Xpad,Ypad),axis=1)\n",
    "hadamard = random_hadamard_sketch(S,data_n)\n",
    "Sx = hadamard[:,0:(hadamard.shape[1]-1)]\n",
    "Sy = hadamard[:,(hadamard.shape[1]-1)]\n",
    "solution = np.linalg.inv(Sx.T@Sx)@X.T@Y\n",
    "### Sppose the test input = [1,2,...,14]\n",
    "test = (np.arange(1,15)).reshape(-1,1)\n",
    "### Y_expect = sum(solution)\n",
    "Y_expect = sum(solution@test)\n",
    "print(solution)\n",
    "print(Y_expect)\n",
    "print(hadamard)\n",
    "end1 = time.time()\n",
    "print(\"The time of execution of Randomized Hadamard Sketching is :\",(end1-start1) * 10**3, \"ms\")"
   ]
  },
  {
   "cell_type": "markdown",
   "metadata": {},
   "source": [
    "Now Let Us Implement the algorithm written by Pro. Zhang in R"
   ]
  },
  {
   "cell_type": "code",
   "execution_count": 9,
   "metadata": {},
   "outputs": [],
   "source": [
    "import math\n",
    "def padding(X, y):\n",
    "    m = X.shape[0]\n",
    "    if (math.ceil(math.log2(m))>math.log2(m)):\n",
    "        m_new = math.floor(math.log2(m))+1\n",
    "        padX = np.concatenate([X, np.zeros((2**m_new - m, X.shape[1]), dtype=int)], axis=0)\n",
    "        pady = np.append(y,np.zeros((2**m_new) - m,dtype=int))\n",
    "    else:\n",
    "        padX = X\n",
    "        pady = y\n",
    "    return padX, pady\n",
    "def fht_1d(arr):\n",
    "    \"\"\"\n",
    "    Performs Fast Hadamard Transform (FHT) on a 1D array.\n",
    "    \"\"\"\n",
    "    n = arr.shape[0]\n",
    "    assert (n & (n - 1)) == 0, \"Length of the array must be a power of 2.\"\n",
    "\n",
    "    result = arr.copy()\n",
    "    h = 1\n",
    "    while h < n:\n",
    "        for i in range(0, n, h * 2):\n",
    "            for j in range(h):\n",
    "                x = result[i + j]\n",
    "                y = result[i + j + h]\n",
    "                result[i + j] = x + y\n",
    "                result[i + j + h] = x - y\n",
    "        h *= 2\n",
    "    return result\n",
    "\n",
    "def fht_2d_by_columns(matrix):\n",
    "    \"\"\"\n",
    "    Performs Fast Hadamard Transform (FHT) on each column of a 2D array.\n",
    "    \n",
    "    Args:\n",
    "        matrix (numpy.ndarray): 2D array where the number of rows is a power of 2.\n",
    "\n",
    "    Returns:\n",
    "        numpy.ndarray: Transformed 2D array with FHT applied column by column.\n",
    "    \"\"\"\n",
    "    n_rows = matrix.shape[0]\n",
    "    assert (n_rows & (n_rows - 1)) == 0, \"Number of rows must be a power of 2.\"\n",
    "\n",
    "    transformed = np.zeros_like(matrix)\n",
    "    for col in range(matrix.shape[1]):\n",
    "        transformed[:, col] = fht_1d(matrix[:, col])\n",
    "    return transformed\n",
    "def Esticoef_SRHT(m, c, X, y, partial=0):\n",
    "    p = X.shape[1]\n",
    "    X1, y1 = padding(X, y)\n",
    "    n1 = X1.shape[0]\n",
    "    gamma = m / n1\n",
    "\n",
    "    random_signs = np.random.choice([1, -1], size=n1, p=[0.5, 0.5])[:, None]\n",
    "    combined_data = np.column_stack((X1, y1))\n",
    "    signed_data = random_signs*combined_data\n",
    "    result = fht_2d_by_columns(signed_data)\n",
    "    result = result [np.where(np.random.binomial(1, gamma, size=n1) != 0)[0]]\n",
    "    SXy = result / math.sqrt(m)\n",
    "    print(SXy)\n",
    "    if partial == 0:\n",
    "        try:\n",
    "            g = np.linalg.solve(SXy[:, :p], SXy[:, p])\n",
    "        except np.linalg.LinAlgError:\n",
    "            print(\"Matrix is singular or ill-conditioned. Trying alternative approach.\")\n",
    "            g = np.linalg.lstsq(SXy[:, :p], SXy[:, p], rcond=None)[0]\n",
    "    else:\n",
    "        SX = SXy[:, :p]\n",
    "\n",
    "        M = np.linalg.inv(SX.T @ SX)\n",
    "\n",
    "        g = M @ (X.T @ y)\n",
    "\n",
    "        return g, np.dot(c, g), SXy\n",
    "    "
   ]
  },
  {
   "cell_type": "markdown",
   "metadata": {},
   "source": [
    "Now Let Us Input The experimental data and see the resulted time recording."
   ]
  },
  {
   "cell_type": "code",
   "execution_count": 10,
   "metadata": {},
   "outputs": [
    {
     "name": "stdout",
     "output_type": "stream",
     "text": [
      "[[  11.85116028   39.5784032    12.81043344 ...   21.90139141\n",
      "    25.73624799   65.31554562]\n",
      " [  13.99778554   50.04320134   47.90104821 ...   37.37990117\n",
      "    43.88596455  169.42687066]\n",
      " [  -3.17521653   13.05863699   14.2365976  ...    7.453709\n",
      "    -1.02769684   19.34198801]\n",
      " ...\n",
      " [  16.81523119   37.83427018   14.96823904 ...   21.24130415\n",
      "    19.2462843    91.34337688]\n",
      " [  -5.90321946  -35.24043133  -22.49797435 ...  -15.56661083\n",
      "   -21.14560044 -158.02292397]\n",
      " [   3.84603692  -11.53811076  -13.4799122  ...   -8.20010849\n",
      "    -7.3848381    38.70633669]]\n",
      "(array([ 1.29619299,  0.65517024,  0.8355099 ,  0.38997195,  2.64122341,\n",
      "       -3.01132862,  1.58930829, -2.97600558, -0.58913345, -2.76835059,\n",
      "        2.70701356, -1.40421291,  0.9784537 ,  1.80212523]), 7.01874831139682, array([[  11.85116028,   39.5784032 ,   12.81043344, ...,   21.90139141,\n",
      "          25.73624799,   65.31554562],\n",
      "       [  13.99778554,   50.04320134,   47.90104821, ...,   37.37990117,\n",
      "          43.88596455,  169.42687066],\n",
      "       [  -3.17521653,   13.05863699,   14.2365976 , ...,    7.453709  ,\n",
      "          -1.02769684,   19.34198801],\n",
      "       ...,\n",
      "       [  16.81523119,   37.83427018,   14.96823904, ...,   21.24130415,\n",
      "          19.2462843 ,   91.34337688],\n",
      "       [  -5.90321946,  -35.24043133,  -22.49797435, ...,  -15.56661083,\n",
      "         -21.14560044, -158.02292397],\n",
      "       [   3.84603692,  -11.53811076,  -13.4799122 , ...,   -8.20010849,\n",
      "          -7.3848381 ,   38.70633669]]))\n",
      "191.59245491027832 ms for Python Subsampled Randomized Hadamard Transform.\n"
     ]
    }
   ],
   "source": [
    "start_time = time.time()\n",
    "m = 2000\n",
    "c = np.arange(1,15,1)\n",
    "print(Esticoef_SRHT(m,c,X,Y,partial=1))\n",
    "end_time = time.time()\n",
    "elapsed_time = end_time - start_time\n",
    "print(elapsed_time*1000,\"ms for Python Subsampled Randomized Hadamard Transform.\")"
   ]
  }
 ],
 "metadata": {
  "kernelspec": {
   "display_name": "Python 3",
   "language": "python",
   "name": "python3"
  },
  "language_info": {
   "codemirror_mode": {
    "name": "ipython",
    "version": 3
   },
   "file_extension": ".py",
   "mimetype": "text/x-python",
   "name": "python",
   "nbconvert_exporter": "python",
   "pygments_lexer": "ipython3",
   "version": "3.11.9"
  }
 },
 "nbformat": 4,
 "nbformat_minor": 2
}
