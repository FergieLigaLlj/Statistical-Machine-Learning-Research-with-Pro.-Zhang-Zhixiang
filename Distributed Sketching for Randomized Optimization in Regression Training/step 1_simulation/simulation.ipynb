{
 "cells": [
  {
   "cell_type": "code",
   "execution_count": null,
   "metadata": {},
   "outputs": [
    {
     "name": "stdout",
     "output_type": "stream",
     "text": [
      "The simulated matrix is:\n",
      "[[ 9.60202861  7.34913641 10.46704979 ...  4.51092732  4.25803758\n",
      "   7.02848288]\n",
      " [ 0.2784616   0.78676902  0.48015767 ...  1.12275026 -1.07446052\n",
      "  -0.90121966]\n",
      " [ 1.33068146  1.09419909 -0.68157343 ...  1.06718981  0.0259245\n",
      "   1.43630967]\n",
      " ...\n",
      " [ 1.08496791  1.24762091  0.17954013 ...  0.82150075 -0.46264187\n",
      "   1.89470357]\n",
      " [ 0.30990171  6.31978879  7.17868151 ...  4.73108328  4.65036315\n",
      "   6.25113074]\n",
      " [-1.11382748 -0.2775839  -1.20271314 ... -0.36770772  0.29824728\n",
      "   0.25907182]]\n"
     ]
    }
   ],
   "source": [
    "import numpy as np\n",
    "def generate_heterogeneous_data(w2,mu_2,n, p, imbalance_factor=10, random_seed=39):\n",
    "    np.random.seed(random_seed)\n",
    "    \n",
    "    # Parameters for two components\n",
    "    # Component 1: Standard variance, centered at 0\n",
    "    mu1 = np.zeros(p)\n",
    "    sigma1 = np.eye(p)\n",
    "    \n",
    "    # Component 2: High variance, shifted mean and scaled covariance\n",
    "    mu2 = np.ones(p) * mu_2  # Shifted mean\n",
    "    sigma2 = np.eye(p) * imbalance_factor  # High variance component\n",
    "    \n",
    "    # Define mixing proportions (say, 80% from component 1 and 20% from component 2)\n",
    "    weights = [1-w2, w2]\n",
    "    \n",
    "    # Generate data for each component\n",
    "    n1 = int(n * weights[0])\n",
    "    n2 = n - n1\n",
    "    X1 = np.random.multivariate_normal(mu1, sigma1, size=n1)\n",
    "    X2 = np.random.multivariate_normal(mu2, sigma2, size=n2)\n",
    "    \n",
    "    # Combine the data\n",
    "    X = np.vstack((X1, X2))\n",
    "    np.random.shuffle(X)\n",
    "    epsilon = np.random.normal(0, 1, size=n)\n",
    "    beta = np.random.normal(0, 1, size=p)\n",
    "    Y = np.dot(X, beta) + epsilon\n",
    "    return X, Y, beta\n",
    "\n",
    "# Example usage\n",
    "n = 8192       # number of rows         \n",
    "p = 1000        # number of columns\n",
    "w2 = 0.33      # weight of the second component\n",
    "mu_2 = 5       # mean of the second component\n",
    "imbalance_factor = 10 # imbalance factor for the second component\n",
    "random_seed = 39 # random seed for reproducibility\n",
    "X, Y, beta = generate_heterogeneous_data(w2, mu_2, n, p, imbalance_factor, random_seed)\n",
    "print(\"The simulated matrix is:\")\n",
    "print(X)"
   ]
  }
 ],
 "metadata": {
  "kernelspec": {
   "display_name": "Python 3",
   "language": "python",
   "name": "python3"
  },
  "language_info": {
   "codemirror_mode": {
    "name": "ipython",
    "version": 3
   },
   "file_extension": ".py",
   "mimetype": "text/x-python",
   "name": "python",
   "nbconvert_exporter": "python",
   "pygments_lexer": "ipython3",
   "version": "undefined.undefined.undefined"
  }
 },
 "nbformat": 4,
 "nbformat_minor": 2
}
